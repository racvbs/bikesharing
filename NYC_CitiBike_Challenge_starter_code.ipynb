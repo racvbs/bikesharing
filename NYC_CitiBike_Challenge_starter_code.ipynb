{
  "nbformat": 4,
  "nbformat_minor": 0,
  "metadata": {
    "kernelspec": {
      "name": "python3",
      "display_name": "Python 3"
    },
    "colab": {
      "name": "NYC_CitiBike_Challenge_starter_code.ipynb",
      "provenance": [],
      "include_colab_link": true
    },
    "language_info": {
      "name": "python"
    }
  },
  "cells": [
    {
      "cell_type": "markdown",
      "metadata": {
        "id": "view-in-github",
        "colab_type": "text"
      },
      "source": [
        "<a href=\"https://colab.research.google.com/github/racvbs/bikesharing/blob/main/NYC_CitiBike_Challenge_starter_code.ipynb\" target=\"_parent\"><img src=\"https://colab.research.google.com/assets/colab-badge.svg\" alt=\"Open In Colab\"/></a>"
      ]
    },
    {
      "cell_type": "code",
      "metadata": {
        "id": "n3bC2FSZxD_t"
      },
      "source": [
        "import pandas as pd\n",
        "from google.colab import files\n"
      ],
      "execution_count": 1,
      "outputs": []
    },
    {
      "cell_type": "code",
      "metadata": {
        "colab": {
          "base_uri": "https://localhost:8080/",
          "height": 434
        },
        "id": "iq-LHDaBxD_w",
        "outputId": "11213346-7faa-410c-d1c8-bb39c43c99e6"
      },
      "source": [
        "# 1. Create a DataFrame for the 201908-citibike-tripdata data. \n",
        "file_df = pd.read_csv(\"/201908-citibike-tripdata.csv\")\n",
        "file_df.head()"
      ],
      "execution_count": 3,
      "outputs": [
        {
          "output_type": "execute_result",
          "data": {
            "text/html": [
              "<div>\n",
              "<style scoped>\n",
              "    .dataframe tbody tr th:only-of-type {\n",
              "        vertical-align: middle;\n",
              "    }\n",
              "\n",
              "    .dataframe tbody tr th {\n",
              "        vertical-align: top;\n",
              "    }\n",
              "\n",
              "    .dataframe thead th {\n",
              "        text-align: right;\n",
              "    }\n",
              "</style>\n",
              "<table border=\"1\" class=\"dataframe\">\n",
              "  <thead>\n",
              "    <tr style=\"text-align: right;\">\n",
              "      <th></th>\n",
              "      <th>tripduration</th>\n",
              "      <th>starttime</th>\n",
              "      <th>stoptime</th>\n",
              "      <th>start station id</th>\n",
              "      <th>start station name</th>\n",
              "      <th>start station latitude</th>\n",
              "      <th>start station longitude</th>\n",
              "      <th>end station id</th>\n",
              "      <th>end station name</th>\n",
              "      <th>end station latitude</th>\n",
              "      <th>end station longitude</th>\n",
              "      <th>bikeid</th>\n",
              "      <th>usertype</th>\n",
              "      <th>birth year</th>\n",
              "      <th>gender</th>\n",
              "    </tr>\n",
              "  </thead>\n",
              "  <tbody>\n",
              "    <tr>\n",
              "      <th>0</th>\n",
              "      <td>393</td>\n",
              "      <td>2019-08-01 00:00:01.4680</td>\n",
              "      <td>2019-08-01 00:06:35.3780</td>\n",
              "      <td>531.0</td>\n",
              "      <td>Forsyth St &amp; Broome St</td>\n",
              "      <td>40.718939</td>\n",
              "      <td>-73.992663</td>\n",
              "      <td>408.0</td>\n",
              "      <td>Market St &amp; Cherry St</td>\n",
              "      <td>40.710762</td>\n",
              "      <td>-73.994004</td>\n",
              "      <td>35305.0</td>\n",
              "      <td>Subscriber</td>\n",
              "      <td>1996.0</td>\n",
              "      <td>2.0</td>\n",
              "    </tr>\n",
              "    <tr>\n",
              "      <th>1</th>\n",
              "      <td>627</td>\n",
              "      <td>2019-08-01 00:00:01.9290</td>\n",
              "      <td>2019-08-01 00:10:29.7840</td>\n",
              "      <td>274.0</td>\n",
              "      <td>Lafayette Ave &amp; Fort Greene Pl</td>\n",
              "      <td>40.686919</td>\n",
              "      <td>-73.976682</td>\n",
              "      <td>3409.0</td>\n",
              "      <td>Bergen St &amp; Smith St</td>\n",
              "      <td>40.686744</td>\n",
              "      <td>-73.990632</td>\n",
              "      <td>38822.0</td>\n",
              "      <td>Subscriber</td>\n",
              "      <td>1998.0</td>\n",
              "      <td>2.0</td>\n",
              "    </tr>\n",
              "    <tr>\n",
              "      <th>2</th>\n",
              "      <td>1132</td>\n",
              "      <td>2019-08-01 00:00:04.0480</td>\n",
              "      <td>2019-08-01 00:18:56.1650</td>\n",
              "      <td>2000.0</td>\n",
              "      <td>Front St &amp; Washington St</td>\n",
              "      <td>40.702551</td>\n",
              "      <td>-73.989402</td>\n",
              "      <td>3388.0</td>\n",
              "      <td>President St &amp; Henry St</td>\n",
              "      <td>40.682800</td>\n",
              "      <td>-73.999904</td>\n",
              "      <td>18373.0</td>\n",
              "      <td>Subscriber</td>\n",
              "      <td>1988.0</td>\n",
              "      <td>1.0</td>\n",
              "    </tr>\n",
              "    <tr>\n",
              "      <th>3</th>\n",
              "      <td>1780</td>\n",
              "      <td>2019-08-01 00:00:04.1630</td>\n",
              "      <td>2019-08-01 00:29:44.7940</td>\n",
              "      <td>479.0</td>\n",
              "      <td>9 Ave &amp; W 45 St</td>\n",
              "      <td>40.760193</td>\n",
              "      <td>-73.991255</td>\n",
              "      <td>473.0</td>\n",
              "      <td>Rivington St &amp; Chrystie St</td>\n",
              "      <td>40.721101</td>\n",
              "      <td>-73.991925</td>\n",
              "      <td>25002.0</td>\n",
              "      <td>Subscriber</td>\n",
              "      <td>1988.0</td>\n",
              "      <td>1.0</td>\n",
              "    </tr>\n",
              "    <tr>\n",
              "      <th>4</th>\n",
              "      <td>1517</td>\n",
              "      <td>2019-08-01 00:00:05.4580</td>\n",
              "      <td>2019-08-01 00:25:23.4550</td>\n",
              "      <td>3312.0</td>\n",
              "      <td>1 Ave &amp; E 94 St</td>\n",
              "      <td>40.781721</td>\n",
              "      <td>-73.945940</td>\n",
              "      <td>3312.0</td>\n",
              "      <td>1 Ave &amp; E 94 St</td>\n",
              "      <td>40.781721</td>\n",
              "      <td>-73.945940</td>\n",
              "      <td>31198.0</td>\n",
              "      <td>Subscriber</td>\n",
              "      <td>1965.0</td>\n",
              "      <td>2.0</td>\n",
              "    </tr>\n",
              "  </tbody>\n",
              "</table>\n",
              "</div>"
            ],
            "text/plain": [
              "   tripduration                 starttime  ... birth year  gender\n",
              "0           393  2019-08-01 00:00:01.4680  ...     1996.0     2.0\n",
              "1           627  2019-08-01 00:00:01.9290  ...     1998.0     2.0\n",
              "2          1132  2019-08-01 00:00:04.0480  ...     1988.0     1.0\n",
              "3          1780  2019-08-01 00:00:04.1630  ...     1988.0     1.0\n",
              "4          1517  2019-08-01 00:00:05.4580  ...     1965.0     2.0\n",
              "\n",
              "[5 rows x 15 columns]"
            ]
          },
          "metadata": {},
          "execution_count": 3
        }
      ]
    },
    {
      "cell_type": "code",
      "metadata": {
        "colab": {
          "base_uri": "https://localhost:8080/"
        },
        "id": "fUrvf0dRxD_x",
        "outputId": "9b08bb7a-8ab2-47cb-a93b-d5c321a86582"
      },
      "source": [
        "# 2. Check the datatypes of your columns. \n",
        "file_df.dtypes"
      ],
      "execution_count": 5,
      "outputs": [
        {
          "output_type": "execute_result",
          "data": {
            "text/plain": [
              "tripduration                 int64\n",
              "starttime                   object\n",
              "stoptime                    object\n",
              "start station id           float64\n",
              "start station name          object\n",
              "start station latitude     float64\n",
              "start station longitude    float64\n",
              "end station id             float64\n",
              "end station name            object\n",
              "end station latitude       float64\n",
              "end station longitude      float64\n",
              "bikeid                     float64\n",
              "usertype                    object\n",
              "birth year                 float64\n",
              "gender                     float64\n",
              "dtype: object"
            ]
          },
          "metadata": {},
          "execution_count": 5
        }
      ]
    },
    {
      "cell_type": "code",
      "metadata": {
        "colab": {
          "base_uri": "https://localhost:8080/",
          "height": 434
        },
        "id": "CaVMRoicxD_y",
        "outputId": "bff0f21b-9a18-4c98-c916-c866c70b0529"
      },
      "source": [
        "# 3. Convert the 'tripduration' column to datetime datatype.\n",
        "file_df['tripduration'] = pd.to_datetime(file_df[\"tripduration\"], unit='s')\n",
        "file_df.head()"
      ],
      "execution_count": 7,
      "outputs": [
        {
          "output_type": "execute_result",
          "data": {
            "text/html": [
              "<div>\n",
              "<style scoped>\n",
              "    .dataframe tbody tr th:only-of-type {\n",
              "        vertical-align: middle;\n",
              "    }\n",
              "\n",
              "    .dataframe tbody tr th {\n",
              "        vertical-align: top;\n",
              "    }\n",
              "\n",
              "    .dataframe thead th {\n",
              "        text-align: right;\n",
              "    }\n",
              "</style>\n",
              "<table border=\"1\" class=\"dataframe\">\n",
              "  <thead>\n",
              "    <tr style=\"text-align: right;\">\n",
              "      <th></th>\n",
              "      <th>tripduration</th>\n",
              "      <th>starttime</th>\n",
              "      <th>stoptime</th>\n",
              "      <th>start station id</th>\n",
              "      <th>start station name</th>\n",
              "      <th>start station latitude</th>\n",
              "      <th>start station longitude</th>\n",
              "      <th>end station id</th>\n",
              "      <th>end station name</th>\n",
              "      <th>end station latitude</th>\n",
              "      <th>end station longitude</th>\n",
              "      <th>bikeid</th>\n",
              "      <th>usertype</th>\n",
              "      <th>birth year</th>\n",
              "      <th>gender</th>\n",
              "    </tr>\n",
              "  </thead>\n",
              "  <tbody>\n",
              "    <tr>\n",
              "      <th>0</th>\n",
              "      <td>1970-01-01 00:06:33</td>\n",
              "      <td>2019-08-01 00:00:01.4680</td>\n",
              "      <td>2019-08-01 00:06:35.3780</td>\n",
              "      <td>531.0</td>\n",
              "      <td>Forsyth St &amp; Broome St</td>\n",
              "      <td>40.718939</td>\n",
              "      <td>-73.992663</td>\n",
              "      <td>408.0</td>\n",
              "      <td>Market St &amp; Cherry St</td>\n",
              "      <td>40.710762</td>\n",
              "      <td>-73.994004</td>\n",
              "      <td>35305.0</td>\n",
              "      <td>Subscriber</td>\n",
              "      <td>1996.0</td>\n",
              "      <td>2.0</td>\n",
              "    </tr>\n",
              "    <tr>\n",
              "      <th>1</th>\n",
              "      <td>1970-01-01 00:10:27</td>\n",
              "      <td>2019-08-01 00:00:01.9290</td>\n",
              "      <td>2019-08-01 00:10:29.7840</td>\n",
              "      <td>274.0</td>\n",
              "      <td>Lafayette Ave &amp; Fort Greene Pl</td>\n",
              "      <td>40.686919</td>\n",
              "      <td>-73.976682</td>\n",
              "      <td>3409.0</td>\n",
              "      <td>Bergen St &amp; Smith St</td>\n",
              "      <td>40.686744</td>\n",
              "      <td>-73.990632</td>\n",
              "      <td>38822.0</td>\n",
              "      <td>Subscriber</td>\n",
              "      <td>1998.0</td>\n",
              "      <td>2.0</td>\n",
              "    </tr>\n",
              "    <tr>\n",
              "      <th>2</th>\n",
              "      <td>1970-01-01 00:18:52</td>\n",
              "      <td>2019-08-01 00:00:04.0480</td>\n",
              "      <td>2019-08-01 00:18:56.1650</td>\n",
              "      <td>2000.0</td>\n",
              "      <td>Front St &amp; Washington St</td>\n",
              "      <td>40.702551</td>\n",
              "      <td>-73.989402</td>\n",
              "      <td>3388.0</td>\n",
              "      <td>President St &amp; Henry St</td>\n",
              "      <td>40.682800</td>\n",
              "      <td>-73.999904</td>\n",
              "      <td>18373.0</td>\n",
              "      <td>Subscriber</td>\n",
              "      <td>1988.0</td>\n",
              "      <td>1.0</td>\n",
              "    </tr>\n",
              "    <tr>\n",
              "      <th>3</th>\n",
              "      <td>1970-01-01 00:29:40</td>\n",
              "      <td>2019-08-01 00:00:04.1630</td>\n",
              "      <td>2019-08-01 00:29:44.7940</td>\n",
              "      <td>479.0</td>\n",
              "      <td>9 Ave &amp; W 45 St</td>\n",
              "      <td>40.760193</td>\n",
              "      <td>-73.991255</td>\n",
              "      <td>473.0</td>\n",
              "      <td>Rivington St &amp; Chrystie St</td>\n",
              "      <td>40.721101</td>\n",
              "      <td>-73.991925</td>\n",
              "      <td>25002.0</td>\n",
              "      <td>Subscriber</td>\n",
              "      <td>1988.0</td>\n",
              "      <td>1.0</td>\n",
              "    </tr>\n",
              "    <tr>\n",
              "      <th>4</th>\n",
              "      <td>1970-01-01 00:25:17</td>\n",
              "      <td>2019-08-01 00:00:05.4580</td>\n",
              "      <td>2019-08-01 00:25:23.4550</td>\n",
              "      <td>3312.0</td>\n",
              "      <td>1 Ave &amp; E 94 St</td>\n",
              "      <td>40.781721</td>\n",
              "      <td>-73.945940</td>\n",
              "      <td>3312.0</td>\n",
              "      <td>1 Ave &amp; E 94 St</td>\n",
              "      <td>40.781721</td>\n",
              "      <td>-73.945940</td>\n",
              "      <td>31198.0</td>\n",
              "      <td>Subscriber</td>\n",
              "      <td>1965.0</td>\n",
              "      <td>2.0</td>\n",
              "    </tr>\n",
              "  </tbody>\n",
              "</table>\n",
              "</div>"
            ],
            "text/plain": [
              "         tripduration                 starttime  ... birth year  gender\n",
              "0 1970-01-01 00:06:33  2019-08-01 00:00:01.4680  ...     1996.0     2.0\n",
              "1 1970-01-01 00:10:27  2019-08-01 00:00:01.9290  ...     1998.0     2.0\n",
              "2 1970-01-01 00:18:52  2019-08-01 00:00:04.0480  ...     1988.0     1.0\n",
              "3 1970-01-01 00:29:40  2019-08-01 00:00:04.1630  ...     1988.0     1.0\n",
              "4 1970-01-01 00:25:17  2019-08-01 00:00:05.4580  ...     1965.0     2.0\n",
              "\n",
              "[5 rows x 15 columns]"
            ]
          },
          "metadata": {},
          "execution_count": 7
        }
      ]
    },
    {
      "cell_type": "code",
      "metadata": {
        "colab": {
          "base_uri": "https://localhost:8080/"
        },
        "id": "Oo2fJf5pxD_y",
        "outputId": "8f08df43-33c9-4686-cf80-edca00354817"
      },
      "source": [
        "# 4. Check the datatypes of your columns. \n",
        "file_df.dtypes"
      ],
      "execution_count": 8,
      "outputs": [
        {
          "output_type": "execute_result",
          "data": {
            "text/plain": [
              "tripduration               datetime64[ns]\n",
              "starttime                          object\n",
              "stoptime                           object\n",
              "start station id                  float64\n",
              "start station name                 object\n",
              "start station latitude            float64\n",
              "start station longitude           float64\n",
              "end station id                    float64\n",
              "end station name                   object\n",
              "end station latitude              float64\n",
              "end station longitude             float64\n",
              "bikeid                            float64\n",
              "usertype                           object\n",
              "birth year                        float64\n",
              "gender                            float64\n",
              "dtype: object"
            ]
          },
          "metadata": {},
          "execution_count": 8
        }
      ]
    },
    {
      "cell_type": "code",
      "metadata": {
        "colab": {
          "base_uri": "https://localhost:8080/",
          "height": 16
        },
        "id": "bjqdDRzyxD_z",
        "outputId": "6544eda7-4490-4f85-d9c3-5a7e88db2bbd"
      },
      "source": [
        "# 5. Export the Dataframe as a new CSV file without the index.\n",
        "file_df.to_csv('201908_citibike_tripdata_v2.csv') \n",
        "files.download('201908_citibike_tripdata_v2.csv')"
      ],
      "execution_count": 12,
      "outputs": [
        {
          "output_type": "display_data",
          "data": {
            "application/javascript": [
              "\n",
              "    async function download(id, filename, size) {\n",
              "      if (!google.colab.kernel.accessAllowed) {\n",
              "        return;\n",
              "      }\n",
              "      const div = document.createElement('div');\n",
              "      const label = document.createElement('label');\n",
              "      label.textContent = `Downloading \"${filename}\": `;\n",
              "      div.appendChild(label);\n",
              "      const progress = document.createElement('progress');\n",
              "      progress.max = size;\n",
              "      div.appendChild(progress);\n",
              "      document.body.appendChild(div);\n",
              "\n",
              "      const buffers = [];\n",
              "      let downloaded = 0;\n",
              "\n",
              "      const channel = await google.colab.kernel.comms.open(id);\n",
              "      // Send a message to notify the kernel that we're ready.\n",
              "      channel.send({})\n",
              "\n",
              "      for await (const message of channel.messages) {\n",
              "        // Send a message to notify the kernel that we're ready.\n",
              "        channel.send({})\n",
              "        if (message.buffers) {\n",
              "          for (const buffer of message.buffers) {\n",
              "            buffers.push(buffer);\n",
              "            downloaded += buffer.byteLength;\n",
              "            progress.value = downloaded;\n",
              "          }\n",
              "        }\n",
              "      }\n",
              "      const blob = new Blob(buffers, {type: 'application/binary'});\n",
              "      const a = document.createElement('a');\n",
              "      a.href = window.URL.createObjectURL(blob);\n",
              "      a.download = filename;\n",
              "      div.appendChild(a);\n",
              "      a.click();\n",
              "      div.remove();\n",
              "    }\n",
              "  "
            ],
            "text/plain": [
              "<IPython.core.display.Javascript object>"
            ]
          },
          "metadata": {}
        },
        {
          "output_type": "display_data",
          "data": {
            "application/javascript": [
              "download(\"download_4c7e1609-9e80-4186-ba54-e9af461c5efb\", \"201908_citibike_tripdata_v2.csv\", 156863201)"
            ],
            "text/plain": [
              "<IPython.core.display.Javascript object>"
            ]
          },
          "metadata": {}
        }
      ]
    },
    {
      "cell_type": "code",
      "metadata": {
        "id": "WE-NsaYSxD_z"
      },
      "source": [
        ""
      ],
      "execution_count": null,
      "outputs": []
    }
  ]
}